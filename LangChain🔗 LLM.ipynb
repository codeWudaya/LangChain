{
 "cells": [
  {
   "cell_type": "markdown",
   "id": "fb50d9f8",
   "metadata": {},
   "source": [
    "# <center>By 🎯Udayabhanu Nayak 💡</center>"
   ]
  },
  {
   "cell_type": "markdown",
   "id": "30a14486",
   "metadata": {},
   "source": [
    "# <center>Lang Chain 🔗</center>"
   ]
  },
  {
   "cell_type": "markdown",
   "id": "509e1339",
   "metadata": {
    "id": "qo1DQXM18bgL"
   },
   "source": [
    "LangChain is a framework for developing applications powered by language models.\n",
    "\n",
    "- GitHub: https://github.com/hwchase17/langchain\n",
    "- Docs: https://python.langchain.com/en/latest/index.html\n",
    "\n",
    "### Overview:\n",
    "- Installation\n",
    "- LLMs\n",
    "- Prompt Templates\n",
    "- Chains\n",
    "- Agents and Tools\n",
    "- Memory\n",
    "- Document Loaders\n",
    "- Indexes"
   ]
  },
  {
   "cell_type": "markdown",
   "id": "65b921f4",
   "metadata": {},
   "source": [
    "### Setup the Environment\n",
    "Setting up the environment involves configuring necessary variables and dependencies that LangChain and its components might need to function, such as API keys for accessing various language models like OpenAI's GPT or Hugging Face models.\n",
    "\n",
    "### Large Language Models (LLMs)\n",
    "LLMs are advanced AI models capable of understanding and generating human-like text. In the context of LangChain, LLMs are the core component used for text generation, interpretation, and other natural language processing tasks. They can be from various providers like OpenAI, Hugging Face, etc.\n",
    "\n",
    "### Prompt Templates\n",
    "Prompt Templates in LangChain are structured formats for generating prompts that are fed into LLMs. They ensure that the input to the model is consistent and structured, which can improve the quality and relevance of the model's output. They often include placeholders for dynamic content that can be filled in with specific details during runtime.\n",
    "\n",
    "### Chains\n",
    "Chains in LangChain are sequences of operations that can include prompting LLMs, processing their outputs, and potentially feeding those outputs into subsequent steps. They enable complex workflows where the output of one step can inform the input of the next, allowing for sophisticated interactions with LLMs.\n",
    "\n",
    "### Agents and Tools\n",
    "Agents in LangChain are entities that decide which actions to take based on user input, employing various tools to accomplish tasks. Tools are functionalities or integrations that perform specific actions, such as conducting a web search, performing mathematical calculations, accessing databases, etc. Agents use reasoning to determine which tools to apply to solve a given problem or answer a question.\n",
    "\n",
    "### Memory\n",
    "Memory in LangChain allows the system to remember previous interactions, inputs, or generated outputs. This can be crucial for creating contextually aware applications that build upon previous exchanges, making interactions with LLMs more coherent and context-sensitive.\n",
    "\n",
    "### Document Loaders\n",
    "Document Loaders are components in LangChain that facilitate the loading and processing of documents, such as PDFs or text files. They can extract content from these documents, making it accessible to LLMs for processing, analysis, or incorporation into generated responses."
   ]
  },
  {
   "cell_type": "markdown",
   "id": "3d38083f",
   "metadata": {
    "id": "09CgA1RZkiC4"
   },
   "source": [
    "## **Step 01: Installation**"
   ]
  },
  {
   "cell_type": "code",
   "execution_count": null,
   "id": "X4tDdLTjkkk_",
   "metadata": {
    "colab": {
     "base_uri": "https://localhost:8080/"
    },
    "id": "X4tDdLTjkkk_",
    "outputId": "49739296-a9e9-4b1c-c90c-6e3fe22eb57f"
   },
   "outputs": [],
   "source": [
    "!pip install langchain"
   ]
  },
  {
   "cell_type": "code",
   "execution_count": null,
   "id": "4b52a51a",
   "metadata": {},
   "outputs": [],
   "source": [
    "!pip install openai"
   ]
  },
  {
   "cell_type": "markdown",
   "id": "651cf39c",
   "metadata": {
    "id": "sQHZiF38-Cps"
   },
   "source": [
    "## **Step 02: Setup the Environment**"
   ]
  },
  {
   "cell_type": "code",
   "execution_count": null,
   "id": "9-mFf0Ql-KX2",
   "metadata": {
    "id": "9-mFf0Ql-KX2"
   },
   "outputs": [],
   "source": [
    "import os\n",
    "\n",
    "os.environ['OPENAI_API_KEY'] = \"your_openai_api_key\"\n",
    "os.environ[\"HUGGINGFACEHUB_API_TOKEN\"] = \"your_huggingface_api_token\""
   ]
  },
  {
   "cell_type": "raw",
   "id": "af028a49",
   "metadata": {},
   "source": [
    "Replace your_openai_api_key and your_huggingface_api_token with your actual API keys."
   ]
  },
  {
   "cell_type": "markdown",
   "id": "9f550041",
   "metadata": {},
   "source": [
    "## Step 03: Large Language Models\n",
    "Initialize an OpenAI LLM with a higher temperature for more creative outputs:"
   ]
  },
  {
   "cell_type": "code",
   "execution_count": null,
   "id": "a26f0e2c",
   "metadata": {},
   "outputs": [],
   "source": [
    "from langchain.llms import OpenAI\n",
    "\n",
    "llm = OpenAI(temperature=0.9)"
   ]
  },
  {
   "cell_type": "markdown",
   "id": "e1fad138",
   "metadata": {},
   "source": [
    "## Step 04: Prompt Templates\n",
    "Manage and optimize prompts effectively using LangChain's PromptTemplate:"
   ]
  },
  {
   "cell_type": "code",
   "execution_count": null,
   "id": "613d5975",
   "metadata": {},
   "outputs": [],
   "source": [
    "from langchain.prompts import PromptTemplate\n",
    "\n",
    "prompt_template = PromptTemplate(\n",
    "    input_variables=['cuisine'],\n",
    "    template=\"I want to open a restaurant for {cuisine} food. Suggest a fancy name for this.\"\n",
    ")\n"
   ]
  },
  {
   "cell_type": "markdown",
   "id": "74cc4d5e",
   "metadata": {},
   "source": [
    "## Step 05: Chains\n",
    "Combine LLMs and prompt templates into multi-step workflows with LLMChain and SequentialChain:"
   ]
  },
  {
   "cell_type": "code",
   "execution_count": null,
   "id": "382b226b",
   "metadata": {},
   "outputs": [],
   "source": [
    "from langchain.chains import LLMChain, SequentialChain\n",
    "\n",
    "# Initialize an LLMChain with the LLM and prompt template\n",
    "chain = LLMChain(llm=llm, prompt=prompt_template)\n",
    "\n",
    "# For sequential chains, combine multiple chains\n",
    "sequential_chain = SequentialChain(chains=[chain1, chain2])"
   ]
  },
  {
   "cell_type": "markdown",
   "id": "d340e3df",
   "metadata": {},
   "source": [
    "## Step 06: Agents and Tools\n",
    "Agents decide which actions to take based on user input, utilizing various tools like Google Search, Wikipedia, and math operations:"
   ]
  },
  {
   "cell_type": "code",
   "execution_count": null,
   "id": "d785b0ca",
   "metadata": {},
   "outputs": [],
   "source": [
    "from langchain.agents import initialize_agent, load_tools\n",
    "from langchain.agents import AgentType\n",
    "\n",
    "# Load required tools\n",
    "tools = load_tools([\"serpapi\", \"llm-math\"], llm=llm)\n",
    "\n",
    "# Initialize the agent\n",
    "agent = initialize_agent(tools, llm, agent=AgentType.ZERO_SHOT_REACT_DESCRIPTION, verbose=True)\n"
   ]
  },
  {
   "cell_type": "markdown",
   "id": "a17f7a5e",
   "metadata": {},
   "source": [
    "## Step 07: Memory\n",
    "Incorporate memory into chains to remember past interactions, enhancing the contextuality of responses:"
   ]
  },
  {
   "cell_type": "code",
   "execution_count": null,
   "id": "bd165f30",
   "metadata": {},
   "outputs": [],
   "source": [
    "from langchain.memory import ConversationBufferMemory\n",
    "\n",
    "memory = ConversationBufferMemory()\n",
    "\n",
    "chain = LLMChain(llm=llm, prompt=prompt_template, memory=memory)\n"
   ]
  },
  {
   "cell_type": "markdown",
   "id": "79055115",
   "metadata": {},
   "source": [
    "## Step 08: Document Loaders\n",
    "Load and extract information from documents, such as PDFs, with document loaders like PyPDFLoader:"
   ]
  },
  {
   "cell_type": "code",
   "execution_count": null,
   "id": "b50d4e25",
   "metadata": {},
   "outputs": [],
   "source": [
    "from langchain.document_loaders import PyPDFLoader\n",
    "\n",
    "loader = PyPDFLoader(\"path_to_your_pdf_file.pdf\")\n",
    "pages = loader.load()"
   ]
  },
  {
   "cell_type": "markdown",
   "id": "4b4bdd47",
   "metadata": {},
   "source": [
    "### Setup the Environment\n",
    "Setting up the environment involves configuring necessary variables and dependencies that LangChain and its components might need to function, such as API keys for accessing various language models like OpenAI's GPT or Hugging Face models.\n",
    "\n",
    "### Large Language Models (LLMs)\n",
    "LLMs are advanced AI models capable of understanding and generating human-like text. In the context of LangChain, LLMs are the core component used for text generation, interpretation, and other natural language processing tasks. They can be from various providers like OpenAI, Hugging Face, etc.\n",
    "\n",
    "### Prompt Templates\n",
    "Prompt Templates in LangChain are structured formats for generating prompts that are fed into LLMs. They ensure that the input to the model is consistent and structured, which can improve the quality and relevance of the model's output. They often include placeholders for dynamic content that can be filled in with specific details during runtime.\n",
    "\n",
    "### Chains\n",
    "Chains in LangChain are sequences of operations that can include prompting LLMs, processing their outputs, and potentially feeding those outputs into subsequent steps. They enable complex workflows where the output of one step can inform the input of the next, allowing for sophisticated interactions with LLMs.\n",
    "\n",
    "### Agents and Tools\n",
    "Agents in LangChain are entities that decide which actions to take based on user input, employing various tools to accomplish tasks. Tools are functionalities or integrations that perform specific actions, such as conducting a web search, performing mathematical calculations, accessing databases, etc. Agents use reasoning to determine which tools to apply to solve a given problem or answer a question.\n",
    "\n",
    "### Memory\n",
    "Memory in LangChain allows the system to remember previous interactions, inputs, or generated outputs. This can be crucial for creating contextually aware applications that build upon previous exchanges, making interactions with LLMs more coherent and context-sensitive.\n",
    "\n",
    "### Document Loaders\n",
    "Document Loaders are components in LangChain that facilitate the loading and processing of documents, such as PDFs or text files. They can extract content from these documents, making it accessible to LLMs for processing, analysis, or incorporation into generated responses."
   ]
  },
  {
   "cell_type": "markdown",
   "id": "efcfe3b6",
   "metadata": {},
   "source": [
    "# <center>Thank You </center>"
   ]
  }
 ],
 "metadata": {
  "kernelspec": {
   "display_name": "Python 3 (ipykernel)",
   "language": "python",
   "name": "python3"
  },
  "language_info": {
   "codemirror_mode": {
    "name": "ipython",
    "version": 3
   },
   "file_extension": ".py",
   "mimetype": "text/x-python",
   "name": "python",
   "nbconvert_exporter": "python",
   "pygments_lexer": "ipython3",
   "version": "3.11.5"
  }
 },
 "nbformat": 4,
 "nbformat_minor": 5
}
